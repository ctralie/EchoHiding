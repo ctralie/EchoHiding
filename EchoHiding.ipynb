{
 "cells": [
  {
   "cell_type": "code",
   "execution_count": 1,
   "id": "2143209c",
   "metadata": {},
   "outputs": [],
   "source": [
    "%load_ext autoreload\n",
    "%autoreload 2\n",
    "import numpy as np\n",
    "import matplotlib.pyplot as plt\n",
    "import IPython.display as ipd\n",
    "from scipy.io import wavfile\n",
    "from echohiding import echo_hide, extract_echo_bits, get_odg_distortion, get_mp3_encoded"
   ]
  },
  {
   "cell_type": "code",
   "execution_count": null,
   "id": "9e59a764",
   "metadata": {},
   "outputs": [],
   "source": [
    "# Load audio samples from a randomly chosen example from OpenMic Dataset\n",
    "sr, x = wavfile.read(\"086799_0.wav\")\n",
    "x = np.mean(x, axis=1) # Mix to mono\n",
    "x = x/32768 # Put in range [-1, 1]\n",
    "ipd.Audio(x, rate=sr)"
   ]
  },
  {
   "cell_type": "code",
   "execution_count": 3,
   "id": "cd76d9d2",
   "metadata": {},
   "outputs": [
    {
     "name": "stdout",
     "output_type": "stream",
     "text": [
      "Payload: 43 bits per second\n"
     ]
    }
   ],
   "source": [
    "# Make some random bits\n",
    "np.random.seed(0)\n",
    "b = np.random.randint(0, 2, 430)\n",
    "\n",
    "# Choose window length for echoes.  Higher window lengths\n",
    "# may lead to more robust encoding, but at a lower bitrate\n",
    "L = 1024\n",
    "print(\"Payload: {} bits per second\".format(sr//L))"
   ]
  },
  {
   "cell_type": "code",
   "execution_count": null,
   "id": "402f254d",
   "metadata": {},
   "outputs": [],
   "source": [
    "# Hide echoes. A higher alpha will make the echoes more obvious\n",
    "y = echo_hide(x, L, b, alpha=0.2)\n",
    "ipd.Audio(y, rate=sr)"
   ]
  },
  {
   "cell_type": "code",
   "execution_count": 5,
   "id": "7ee19aee",
   "metadata": {},
   "outputs": [
    {
     "name": "stdout",
     "output_type": "stream",
     "text": [
      "Bit error rate wav encode: 0.06511627906976747\n",
      "Bit error rate 64kbps mp3: 0.15116279069767447\n"
     ]
    }
   ],
   "source": [
    "# Robustness\n",
    "b_est = extract_echo_bits(y, L)\n",
    "berr = 1-np.sum(b==b_est)/b.size\n",
    "print(\"Bit error rate wav encode:\", berr)\n",
    "\n",
    "# Robustness\n",
    "bitrate = 64\n",
    "b_est = extract_echo_bits(get_mp3_encoded(y, sr, bitrate), L)\n",
    "berr = 1-np.sum(b==b_est)/b.size\n",
    "print(\"Bit error rate {}kbps mp3:\".format(bitrate), berr)"
   ]
  },
  {
   "cell_type": "code",
   "execution_count": 6,
   "id": "714cd89c",
   "metadata": {},
   "outputs": [
    {
     "name": "stdout",
     "output_type": "stream",
     "text": [
      "Objective difference grade: -0.385\n",
      "Distortion index: 1.781\n"
     ]
    }
   ],
   "source": [
    "# Imperceptibility (using Holters GstPEAQ)\n",
    "odg, di = get_odg_distortion(x, y, sr)\n",
    "print(\"Objective difference grade: {:.3f}\".format(odg))\n",
    "print(\"Distortion index: {:.3f}\".format(di))"
   ]
  },
  {
   "cell_type": "code",
   "execution_count": null,
   "id": "dbbd8f97",
   "metadata": {},
   "outputs": [],
   "source": []
  }
 ],
 "metadata": {
  "kernelspec": {
   "display_name": "Python 3 (ipykernel)",
   "language": "python",
   "name": "python3"
  },
  "language_info": {
   "codemirror_mode": {
    "name": "ipython",
    "version": 3
   },
   "file_extension": ".py",
   "mimetype": "text/x-python",
   "name": "python",
   "nbconvert_exporter": "python",
   "pygments_lexer": "ipython3",
   "version": "3.11.3"
  }
 },
 "nbformat": 4,
 "nbformat_minor": 5
}
