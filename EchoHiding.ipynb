{
 "cells": [
  {
   "cell_type": "code",
   "execution_count": 1,
   "id": "2143209c",
   "metadata": {},
   "outputs": [],
   "source": [
    "%load_ext autoreload\n",
    "%autoreload 2\n",
    "import numpy as np\n",
    "\n",
    "from matplotlib.textpath import TextPath\n",
    "import matplotlib.pyplot as plt\n",
    "import matplotlib.patches as patches\n",
    "from matplotlib.path import Path\n",
    "\n",
    "import IPython.display as ipd\n",
    "from scipy.io import wavfile\n",
    "from echohiding import echo_hide, extract_echo_bits\n",
    "from audioutils import get_odg_distortion, get_mp3_encoded\n",
    "from binutils import *"
   ]
  },
  {
   "cell_type": "code",
   "execution_count": null,
   "id": "9e59a764",
   "metadata": {},
   "outputs": [],
   "source": [
    "# Load audio samples from a randomly chosen example from OpenMic Dataset\n",
    "sr, x = wavfile.read(\"086799_0.wav\")\n",
    "x = np.mean(x, axis=1) # Mix to mono\n",
    "x = x/32768 # Put in range [-1, 1]\n",
    "ipd.Audio(x, rate=sr)"
   ]
  },
  {
   "cell_type": "code",
   "execution_count": 3,
   "id": "cd76d9d2",
   "metadata": {},
   "outputs": [
    {
     "name": "stdout",
     "output_type": "stream",
     "text": [
      "Payload: 43 bits per second\n"
     ]
    },
    {
     "data": {
      "image/png": "[encoded data removed]",
      "text/plain": [
       "<Figure size 20x20 with 1 Axes>"
      ]
     },
     "metadata": {},
     "output_type": "display_data"
    }
   ],
   "source": [
    "# Make a binary image of the number 4\n",
    "np.random.seed(0)\n",
    "n_bits = 420\n",
    "N = int(n_bits**0.5)\n",
    "b = text2binimg(\"4\", N).flatten()\n",
    "\n",
    "# Choose window length for echoes.  Higher window lengths\n",
    "# may lead to more robust encoding, but at a lower bitrate\n",
    "L = 1024\n",
    "print(\"Payload: {} bits per second\".format(sr//L))"
   ]
  },
  {
   "cell_type": "code",
   "execution_count": null,
   "id": "402f254d",
   "metadata": {},
   "outputs": [],
   "source": [
    "# Hide echoes. A higher alpha will make the echoes more obvious\n",
    "y = echo_hide(x, L, b, alpha=0.2)\n",
    "ipd.Audio(y, rate=sr)"
   ]
  },
  {
   "cell_type": "code",
   "execution_count": 5,
   "id": "7ee19aee",
   "metadata": {},
   "outputs": [
    {
     "name": "stdout",
     "output_type": "stream",
     "text": [
      "Bit error rate wav encode: 0.052\n",
      "Bit error rate 64kbps mp3: 0.075\n"
     ]
    },
    {
     "data": {
      "text/plain": [
       "Text(0.5, 1.0, 'Mp3 Encoded 64kpbs 7.50% Bit Error')"
      ]
     },
     "execution_count": 5,
     "metadata": {},
     "output_type": "execute_result"
    },
    {
     "data": {
      "image/png": "[encoded data removed]",
      "text/plain": [
       "<Figure size 1200x400 with 3 Axes>"
      ]
     },
     "metadata": {},
     "output_type": "display_data"
    }
   ],
   "source": [
    "# Robustness\n",
    "b_est = extract_echo_bits(y, L)\n",
    "berr = 1-np.sum(b==b_est)/b.size\n",
    "print(\"Bit error rate wav encode: {:.3f}\".format(berr))\n",
    "\n",
    "# Robustness\n",
    "bitrate = 64\n",
    "b_est_mp3 = extract_echo_bits(get_mp3_encoded(y, sr, bitrate), L)\n",
    "berr_mp3 = 1-np.sum(b==b_est_mp3)/b.size\n",
    "print(\"Bit error rate {}kbps mp3: {:.3f}\".format(bitrate, berr_mp3))\n",
    "\n",
    "plt.figure(figsize=(12, 4))\n",
    "plt.subplot(131)\n",
    "plt.imshow(b.reshape(N, N), cmap='gray')\n",
    "plt.title(\"Original Pattern\")\n",
    "plt.subplot(132)\n",
    "plt.imshow(b_est.reshape(N, N), cmap='gray')\n",
    "plt.title(\"Wav Encoded {:.2f}% Bit Error\".format(100*berr))\n",
    "plt.subplot(133)\n",
    "plt.imshow(b_est_mp3.reshape(N, N), cmap='gray')\n",
    "plt.title(\"Mp3 Encoded {}kpbs {:.2f}% Bit Error\".format(bitrate, 100*berr_mp3))"
   ]
  },
  {
   "cell_type": "code",
   "execution_count": 6,
   "id": "714cd89c",
   "metadata": {},
   "outputs": [
    {
     "name": "stdout",
     "output_type": "stream",
     "text": [
      "Objective difference grade: -2.420\n",
      "Distortion index: -0.526\n"
     ]
    }
   ],
   "source": [
    "# Imperceptibility (using Holters GstPEAQ)\n",
    "odg, di = get_odg_distortion(x, y, sr)\n",
    "print(\"Objective difference grade: {:.3f}\".format(odg))\n",
    "print(\"Distortion index: {:.3f}\".format(di))"
   ]
  },
  {
   "cell_type": "code",
   "execution_count": null,
   "id": "dbbd8f97",
   "metadata": {},
   "outputs": [],
   "source": []
  }
 ],
 "metadata": {
  "kernelspec": {
   "display_name": "Python 3 (ipykernel)",
   "language": "python",
   "name": "python3"
  },
  "language_info": {
   "codemirror_mode": {
    "name": "ipython",
    "version": 3
   },
   "file_extension": ".py",
   "mimetype": "text/x-python",
   "name": "python",
   "nbconvert_exporter": "python",
   "pygments_lexer": "ipython3",
   "version": "3.11.3"
  }
 },
 "nbformat": 4,
 "nbformat_minor": 5
}
